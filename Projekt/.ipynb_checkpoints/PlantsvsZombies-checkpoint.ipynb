{
 "cells": [
  {
   "cell_type": "code",
   "execution_count": 4,
   "metadata": {},
   "outputs": [
    {
     "name": "stderr",
     "output_type": "stream",
     "text": [
      "\u001b[1minput_line_14:51:12: \u001b[0m\u001b[0;1;31merror: \u001b[0m\u001b[1mno matching constructor for initialization of 'Text'\u001b[0m\n",
      "Text pea = Text (\"100 Sonnen\", 30, 130, &spielfeld);\n",
      "\u001b[0;1;32m           ^     ~~~~~~~~~~~~~~~~~~~~~~~~~~~~~~~~~\n",
      "\u001b[0m\u001b[1m/home/ewiehe/miniconda3/include/algoviz/SVG.hpp:1757:5: \u001b[0m\u001b[0;1;30mnote: \u001b[0mcandidate constructor not viable: no known conversion from 'Rect (*)[9][5]' to 'SVG *' for 4th argument\u001b[0m\n",
      "    Text(std::string text, int x, int y, SVG *view) : SVGElement(view)\n",
      "\u001b[0;1;32m    ^\n",
      "\u001b[0m\u001b[1m/home/ewiehe/miniconda3/include/algoviz/SVG.hpp:1781:5: \u001b[0m\u001b[0;1;30mnote: \u001b[0mcandidate constructor not viable: requires single argument 'original', but 4 arguments were provided\u001b[0m\n",
      "    Text(const Text &original)\n",
      "\u001b[0;1;32m    ^\n",
      "\u001b[0m\u001b[1m/home/ewiehe/miniconda3/include/algoviz/SVG.hpp:1747:5: \u001b[0m\u001b[0;1;30mnote: \u001b[0mcandidate constructor not viable: requires 0 arguments, but 4 were provided\u001b[0m\n",
      "    Text() : SVGElement() {};\n",
      "\u001b[0;1;32m    ^\n",
      "\u001b[0m"
     ]
    },
    {
     "ename": "Interpreter Error",
     "evalue": "",
     "output_type": "error",
     "traceback": [
      "Interpreter Error: "
     ]
    }
   ],
   "source": [
    "#include <algoviz/SVG.hpp>\n",
    "#include <math.h>\n",
    "#include <iostream>\n",
    "#include <vector>\n",
    "#include \"Zombie.hpp\"\n",
    "#include \"Plants.hpp\"\n",
    "#include \"Kreaturen.hpp\"\n",
    "#include \"PeaShooter.hpp\"\n",
    "#include \"Spiel1.hpp\"\n",
    "\n",
    "using namespace std;\n",
    "\n",
    "SVG game = SVG(400,300, \"Plants vs Zombies\");\n",
    "\n",
    "//Hintergrund\n",
    "Rect hintergrund = Rect( 0,0,400,300,0,0,&game);\n",
    "hintergrund.setFill(\"lightgrey\");\n",
    "\n",
    "//Sonnenanzeige \n",
    "Rect sonnenAnzeige = Rect( 310, 10,80,30,0,0,&game);\n",
    "sonnenAnzeige.setFill(\"white\");\n",
    "Image PicOfSun = Image(\"../Projekt/Pics/sun.png\", 330, 25, 30, 30, &game);\n",
    "\n",
    "Rect spielfeld[9][5];\n",
    "int feld[9][5] = {0};\n",
    "\n",
    "//Erstellen der Spielfeldes\n",
    "for ( int spalte = 0; spalte < 9; spalte = spalte+1 ) {\n",
    "    for ( int zeile = 0 ; zeile < 5; zeile = zeile+1 ) {\n",
    "        \n",
    "        //Bewege das Rechteck an die richtige Stelle\n",
    "        spielfeld[spalte][zeile].moveTo(spalte*30 + 130,zeile*40 + 75);\n",
    "        \n",
    "        //Setze es auf die richtige Größe\n",
    "        spielfeld[spalte][zeile].setWidth(30);\n",
    "        spielfeld[spalte][zeile].setHeight(40);\n",
    "        \n",
    "        //Farbe abwechselnd setzen\n",
    "        if(spalte % 2 ^ zeile % 2){\n",
    "            spielfeld[spalte][zeile].setFill(\"darkgreen\");\n",
    "        } else{\n",
    "            spielfeld[spalte][zeile].setFill(\"green\");\n",
    "        }\n",
    "\n",
    "        //Füge das Rechteck zur Zeichnung hinzu.\n",
    "        spielfeld[spalte][zeile].addTo(&game);\n",
    "    }    \n",
    "}\n",
    "//Erstellen des Pflanzen-Menus \n",
    "Rect plantsMenu[2];\n",
    "for ( int spalte = 0; spalte < 2; spalte++) {\n",
    "    \n",
    "    //Rechteck an die richtige Stelle bewegen\n",
    "    plantsMenu[spalte].moveTo(10, spalte*40 + 75);\n",
    "    \n",
    "    //Setze Groesse\n",
    "    plantsMenu[spalte].setWidth(40);\n",
    "    plantsMenu[spalte].setHeight(40);\n",
    "    \n",
    "    //Der Zeichnung hinzufuegen\n",
    "    plantsMenu[spalte].addTo(&game);\n",
    "    \n",
    "    //Farbe auf weiss setzen\n",
    "    plantsMenu[spalte].setFill(\"white\");\n",
    "}\n",
    "Text pea = Text (\"100 Sonnen\", 30, 130, &game);\n",
    "//Bilder ins Pflanzenmenu einfuegen\n",
    "Image PicOfPea = Image(\"../Projekt/Pics/pea-shooter.png\", 30, 95, 30, 30, &game);\n",
    "Image picOfWallnut = Image(\"../Projekt/Pics/wallnut.png\", 30, 135, 30, 30, &game);\n",
    "\n",
    "Spiel1 a = Spiel1(9, 5, 30, 40, 130, 75);\n",
    "a.startGame(7, 165, game);"
   ]
  },
  {
   "cell_type": "code",
   "execution_count": null,
   "metadata": {},
   "outputs": [],
   "source": []
  },
  {
   "cell_type": "code",
   "execution_count": null,
   "metadata": {},
   "outputs": [],
   "source": []
  }
 ],
 "metadata": {
  "kernelspec": {
   "display_name": "C++17",
   "language": "C++17",
   "name": "xcpp17"
  },
  "language_info": {
   "codemirror_mode": "text/x-c++src",
   "file_extension": ".cpp",
   "mimetype": "text/x-c++src",
   "name": "c++",
   "version": "17"
  }
 },
 "nbformat": 4,
 "nbformat_minor": 4
}
